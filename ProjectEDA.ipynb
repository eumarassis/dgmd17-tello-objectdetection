{
 "cells": [
  {
   "cell_type": "markdown",
   "metadata": {},
   "source": [
    "## DGMD S-17 Robotics, Autonomous Vehicles, Drones, and Artificial Intelligence\n",
    "\n",
    "### Object Detection, Depth Perception and Adaptive Navigation with a Tello Drone\n",
    "\n",
    "### Group Members: Ryan Abbate, Eumar Assis, Muthukaruppan (Muthu) Annamalai"
   ]
  },
  {
   "cell_type": "code",
   "execution_count": 1,
   "metadata": {},
   "outputs": [],
   "source": [
    "import matplotlib.pyplot as plt\n",
    "import numpy as np\n",
    "import cv2\n",
    "import pandas as pd"
   ]
  },
  {
   "cell_type": "markdown",
   "metadata": {},
   "source": [
    "## Load Telemetry data frame"
   ]
  },
  {
   "cell_type": "code",
   "execution_count": 11,
   "metadata": {},
   "outputs": [
    {
     "name": "stdout",
     "output_type": "stream",
     "text": [
      "Index(['log_time', 'Model', 'confidence', 'detected bounding box width',\n",
      "       'detected bounding box height', 'img xcenter', 'img ycenter',\n",
      "       'model output xcenter', 'model output ycenter',\n",
      "       'height (distance to floor)', 'is_flying', 'total_intensity'],\n",
      "      dtype='object')\n"
     ]
    },
    {
     "data": {
      "text/html": [
       "<div>\n",
       "<style scoped>\n",
       "    .dataframe tbody tr th:only-of-type {\n",
       "        vertical-align: middle;\n",
       "    }\n",
       "\n",
       "    .dataframe tbody tr th {\n",
       "        vertical-align: top;\n",
       "    }\n",
       "\n",
       "    .dataframe thead th {\n",
       "        text-align: right;\n",
       "    }\n",
       "</style>\n",
       "<table border=\"1\" class=\"dataframe\">\n",
       "  <thead>\n",
       "    <tr style=\"text-align: right;\">\n",
       "      <th></th>\n",
       "      <th>confidence</th>\n",
       "      <th>detected bounding box width</th>\n",
       "      <th>detected bounding box height</th>\n",
       "      <th>img xcenter</th>\n",
       "      <th>img ycenter</th>\n",
       "      <th>model output xcenter</th>\n",
       "      <th>model output ycenter</th>\n",
       "      <th>height (distance to floor)</th>\n",
       "      <th>total_intensity</th>\n",
       "    </tr>\n",
       "  </thead>\n",
       "  <tbody>\n",
       "    <tr>\n",
       "      <th>count</th>\n",
       "      <td>253.000000</td>\n",
       "      <td>253.000000</td>\n",
       "      <td>253.000000</td>\n",
       "      <td>368.0</td>\n",
       "      <td>368.0</td>\n",
       "      <td>253.000000</td>\n",
       "      <td>253.000000</td>\n",
       "      <td>368.000000</td>\n",
       "      <td>3.680000e+02</td>\n",
       "    </tr>\n",
       "    <tr>\n",
       "      <th>mean</th>\n",
       "      <td>0.801571</td>\n",
       "      <td>488.560087</td>\n",
       "      <td>496.527158</td>\n",
       "      <td>480.0</td>\n",
       "      <td>360.0</td>\n",
       "      <td>302.810243</td>\n",
       "      <td>181.818371</td>\n",
       "      <td>0.244565</td>\n",
       "      <td>2.278859e+08</td>\n",
       "    </tr>\n",
       "    <tr>\n",
       "      <th>std</th>\n",
       "      <td>0.142038</td>\n",
       "      <td>244.024276</td>\n",
       "      <td>182.939030</td>\n",
       "      <td>0.0</td>\n",
       "      <td>0.0</td>\n",
       "      <td>195.658168</td>\n",
       "      <td>169.207741</td>\n",
       "      <td>12.026083</td>\n",
       "      <td>3.213561e+07</td>\n",
       "    </tr>\n",
       "    <tr>\n",
       "      <th>min</th>\n",
       "      <td>0.280610</td>\n",
       "      <td>89.000000</td>\n",
       "      <td>90.000000</td>\n",
       "      <td>480.0</td>\n",
       "      <td>360.0</td>\n",
       "      <td>5.500000</td>\n",
       "      <td>-23.000000</td>\n",
       "      <td>-100.000000</td>\n",
       "      <td>1.591261e+08</td>\n",
       "    </tr>\n",
       "    <tr>\n",
       "      <th>25%</th>\n",
       "      <td>0.719000</td>\n",
       "      <td>256.000000</td>\n",
       "      <td>355.000000</td>\n",
       "      <td>480.0</td>\n",
       "      <td>360.0</td>\n",
       "      <td>145.500000</td>\n",
       "      <td>25.000000</td>\n",
       "      <td>0.000000</td>\n",
       "      <td>2.053526e+08</td>\n",
       "    </tr>\n",
       "    <tr>\n",
       "      <th>50%</th>\n",
       "      <td>0.846496</td>\n",
       "      <td>460.441925</td>\n",
       "      <td>519.000000</td>\n",
       "      <td>480.0</td>\n",
       "      <td>360.0</td>\n",
       "      <td>227.500000</td>\n",
       "      <td>113.000000</td>\n",
       "      <td>0.000000</td>\n",
       "      <td>2.276213e+08</td>\n",
       "    </tr>\n",
       "    <tr>\n",
       "      <th>75%</th>\n",
       "      <td>0.909000</td>\n",
       "      <td>712.000000</td>\n",
       "      <td>685.000000</td>\n",
       "      <td>480.0</td>\n",
       "      <td>360.0</td>\n",
       "      <td>486.823364</td>\n",
       "      <td>360.000000</td>\n",
       "      <td>0.000000</td>\n",
       "      <td>2.526919e+08</td>\n",
       "    </tr>\n",
       "    <tr>\n",
       "      <th>max</th>\n",
       "      <td>0.991947</td>\n",
       "      <td>939.234924</td>\n",
       "      <td>720.000000</td>\n",
       "      <td>480.0</td>\n",
       "      <td>360.0</td>\n",
       "      <td>811.901123</td>\n",
       "      <td>524.035156</td>\n",
       "      <td>80.000000</td>\n",
       "      <td>2.925508e+08</td>\n",
       "    </tr>\n",
       "  </tbody>\n",
       "</table>\n",
       "</div>"
      ],
      "text/plain": [
       "       confidence  detected bounding box width  detected bounding box height  \\\n",
       "count  253.000000                   253.000000                    253.000000   \n",
       "mean     0.801571                   488.560087                    496.527158   \n",
       "std      0.142038                   244.024276                    182.939030   \n",
       "min      0.280610                    89.000000                     90.000000   \n",
       "25%      0.719000                   256.000000                    355.000000   \n",
       "50%      0.846496                   460.441925                    519.000000   \n",
       "75%      0.909000                   712.000000                    685.000000   \n",
       "max      0.991947                   939.234924                    720.000000   \n",
       "\n",
       "       img xcenter  img ycenter  model output xcenter  model output ycenter  \\\n",
       "count        368.0        368.0            253.000000            253.000000   \n",
       "mean         480.0        360.0            302.810243            181.818371   \n",
       "std            0.0          0.0            195.658168            169.207741   \n",
       "min          480.0        360.0              5.500000            -23.000000   \n",
       "25%          480.0        360.0            145.500000             25.000000   \n",
       "50%          480.0        360.0            227.500000            113.000000   \n",
       "75%          480.0        360.0            486.823364            360.000000   \n",
       "max          480.0        360.0            811.901123            524.035156   \n",
       "\n",
       "       height (distance to floor)  total_intensity  \n",
       "count                  368.000000     3.680000e+02  \n",
       "mean                     0.244565     2.278859e+08  \n",
       "std                     12.026083     3.213561e+07  \n",
       "min                   -100.000000     1.591261e+08  \n",
       "25%                      0.000000     2.053526e+08  \n",
       "50%                      0.000000     2.276213e+08  \n",
       "75%                      0.000000     2.526919e+08  \n",
       "max                     80.000000     2.925508e+08  "
      ]
     },
     "execution_count": 11,
     "metadata": {},
     "output_type": "execute_result"
    }
   ],
   "source": [
    "df = pd.read_csv(\"./assets/telemetry.csv\")\n",
    "df_c = df[df['Model'] == 'DepthPerception'][['log_time', 'confidence']].rename(columns={'log_time': 'log_time', 'confidence': 'total_intensity'})\n",
    "df = pd.merge(df[df['Model'] != 'DepthPerception'], df_c, on='log_time')\n",
    "\n",
    "print(df.columns)\n",
    "df.describe()"
   ]
  },
  {
   "cell_type": "markdown",
   "metadata": {},
   "source": [
    "## 1. Comparing Azure vs. YOLO \n",
    "\n",
    "Comparing people detector models"
   ]
  },
  {
   "cell_type": "code",
   "execution_count": 12,
   "metadata": {},
   "outputs": [
    {
     "data": {
      "image/png": "[encoded data removed]",
      "text/plain": [
       "<Figure size 432x288 with 2 Axes>"
      ]
     },
     "metadata": {
      "needs_background": "light"
     },
     "output_type": "display_data"
    }
   ],
   "source": [
    "#Get filtered data frames\n",
    "azure_df = df[df['Model'] =='AzureObjectDetector'] \n",
    "\n",
    "yolo_df = df[df['Model'] == 'YOLOObjectDetector']\n",
    "\n",
    "# Plot two histograms side by side using Matplotlib\n",
    "fig, axes = plt.subplots(1, 2)\n",
    "\n",
    "fig.suptitle('Azure vs. YOLO', fontsize=14)\n",
    "\n",
    "azure_df.boxplot('confidence', ax=axes[0])\n",
    "axes[0].set_title('Azure')\n",
    "yolo_df.boxplot('confidence', ax=axes[1])\n",
    "axes[1].set_title('YOLO')\n",
    "plt.show()\n",
    "\n"
   ]
  },
  {
   "cell_type": "markdown",
   "metadata": {},
   "source": [
    "## 2. Comparing YOLO Face vs. YOLO"
   ]
  },
  {
   "cell_type": "code",
   "execution_count": 4,
   "metadata": {},
   "outputs": [
    {
     "data": {
      "image/png": "[encoded data removed]",
      "text/plain": [
       "<Figure size 432x288 with 2 Axes>"
      ]
     },
     "metadata": {
      "needs_background": "light"
     },
     "output_type": "display_data"
    }
   ],
   "source": [
    "#Get filtered data frames\n",
    "yolo_face_df = df[df['Model'] == 'YOLOFaceDetector']\n",
    "\n",
    "# Plot two histograms side by side using Matplotlib\n",
    "fig, axes = plt.subplots(1, 2)\n",
    "\n",
    "fig.suptitle('YOLO Face vs. YOLO', fontsize=14)\n",
    "yolo_face_df.boxplot('confidence', ax=axes[0])\n",
    "axes[0].set_title('YOLO Face')\n",
    "yolo_df.boxplot('confidence', ax=axes[1])\n",
    "axes[1].set_title('YOLO')\n",
    "plt.show()"
   ]
  },
  {
   "cell_type": "markdown",
   "metadata": {},
   "source": [
    "## 3. Model Accuracy Histogram\n",
    "\n",
    "Comparing accuracy of 1. YOLO, 2. YOLO Face & 3. Azure Models"
   ]
  },
  {
   "cell_type": "code",
   "execution_count": 13,
   "metadata": {},
   "outputs": [
    {
     "data": {
      "image/png": "[encoded data removed]",
      "text/plain": [
       "<Figure size 432x288 with 1 Axes>"
      ]
     },
     "metadata": {
      "needs_background": "light"
     },
     "output_type": "display_data"
    }
   ],
   "source": [
    "# plotting two histograms on the same axis\n",
    "plt.hist(yolo_df['confidence'], bins=25, alpha=0.45, color='red')\n",
    "plt.hist(yolo_face_df['confidence'], bins=25, alpha=0.45, color='blue')\n",
    "plt.hist(azure_df['confidence'], bins=25, alpha=0.45, color='green')\n",
    "\n",
    "plt.title(\"Confidence between models\")\n",
    "plt.legend(['YOLO Model Accuracy',\n",
    "            'YOLO Face Model Accuracy',\n",
    "            'Azure Model Accuracy'])\n",
    "  \n",
    "plt.show()"
   ]
  },
  {
   "cell_type": "markdown",
   "metadata": {},
   "source": [
    "## 4. Finding person distance from camera\n",
    "\n",
    "Comparing Computer Vision bounding boxes vs. density"
   ]
  },
  {
   "cell_type": "code",
   "execution_count": 14,
   "metadata": {},
   "outputs": [
    {
     "data": {
      "image/png": "[encoded data removed]",
      "text/plain": [
       "<Figure size 720x360 with 1 Axes>"
      ]
     },
     "metadata": {
      "needs_background": "light"
     },
     "output_type": "display_data"
    }
   ],
   "source": [
    "df_det = df[df['Model'] != 'DepthPerception']\n",
    "\n",
    "fig = plt.figure(figsize = (10, 5))\n",
    " \n",
    "# creating the bar plot\n",
    "plt.bar(df_det.total_intensity/100000000, df_det.confidence, width = 0.1)\n",
    " \n",
    "plt.xlabel(\"Distance of Person from the Drone\")\n",
    "plt.ylabel(\"Accuracy of Prediction\")\n",
    "plt.title(\"Comparing the accuracy with the distance\")\n",
    "plt.show()"
   ]
  },
  {
   "cell_type": "code",
   "execution_count": 7,
   "metadata": {},
   "outputs": [],
   "source": [
    "# Plotting the Graph\n",
    "# df_det = df[df['Model'] != 'DepthPerception']\n",
    "# plt.plot(df_det.total_intensity/100000000, df_det.confidence)\n",
    "# plt.title(\"Accuracy of the prediction with Distance\")\n",
    "# plt.xlabel(\"Distance\")\n",
    "# plt.ylabel(\"Accuracy\")\n",
    "# plt.show()"
   ]
  },
  {
   "cell_type": "code",
   "execution_count": null,
   "metadata": {},
   "outputs": [],
   "source": []
  }
 ],
 "metadata": {
  "kernelspec": {
   "display_name": "Python 3 (ipykernel)",
   "language": "python",
   "name": "python3"
  },
  "language_info": {
   "codemirror_mode": {
    "name": "ipython",
    "version": 3
   },
   "file_extension": ".py",
   "mimetype": "text/x-python",
   "name": "python",
   "nbconvert_exporter": "python",
   "pygments_lexer": "ipython3",
   "version": "3.8.10"
  },
  "vscode": {
   "interpreter": {
    "hash": "516256ed48e2fe25a73913b952a87e43c3406a22a75480f9d2946253dfae098f"
   }
  }
 },
 "nbformat": 4,
 "nbformat_minor": 4
}
