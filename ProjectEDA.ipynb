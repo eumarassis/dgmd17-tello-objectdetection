{
 "cells": [
  {
   "cell_type": "markdown",
   "metadata": {},
   "source": [
    "## DGMD S-17 Robotics, Autonomous Vehicles, Drones, and Artificial Intelligence\n",
    "\n",
    "### Object Detection, Depth Perception and Adaptive Navigation with a Tello Drone\n",
    "\n",
    "### Group Members: Ryan Abbate, Eumar Assis, Muthukaruppan (Muthu) Annamalai"
   ]
  },
  {
   "cell_type": "code",
   "execution_count": 17,
   "metadata": {},
   "outputs": [],
   "source": [
    "import matplotlib.pyplot as plt\n",
    "import numpy as np\n",
    "import cv2\n",
    "import pandas as pd"
   ]
  },
  {
   "cell_type": "markdown",
   "metadata": {},
   "source": [
    "## Load Telemetry data frame"
   ]
  },
  {
   "cell_type": "code",
   "execution_count": 26,
   "metadata": {},
   "outputs": [
    {
     "name": "stdout",
     "output_type": "stream",
     "text": [
      "Index(['log_time', 'Model', 'confidence', 'detected bounding box width',\n",
      "       'detected bounding box height', 'img xcenter', 'img ycenter',\n",
      "       'model output xcenter', 'model output ycenter',\n",
      "       'height (distance to floor)', 'is_flying'],\n",
      "      dtype='object')\n"
     ]
    },
    {
     "data": {
      "text/html": [
       "<div>\n",
       "<style scoped>\n",
       "    .dataframe tbody tr th:only-of-type {\n",
       "        vertical-align: middle;\n",
       "    }\n",
       "\n",
       "    .dataframe tbody tr th {\n",
       "        vertical-align: top;\n",
       "    }\n",
       "\n",
       "    .dataframe thead th {\n",
       "        text-align: right;\n",
       "    }\n",
       "</style>\n",
       "<table border=\"1\" class=\"dataframe\">\n",
       "  <thead>\n",
       "    <tr style=\"text-align: right;\">\n",
       "      <th></th>\n",
       "      <th>confidence</th>\n",
       "      <th>detected bounding box width</th>\n",
       "      <th>detected bounding box height</th>\n",
       "      <th>img xcenter</th>\n",
       "      <th>img ycenter</th>\n",
       "      <th>model output xcenter</th>\n",
       "      <th>model output ycenter</th>\n",
       "      <th>height (distance to floor)</th>\n",
       "    </tr>\n",
       "  </thead>\n",
       "  <tbody>\n",
       "    <tr>\n",
       "      <th>count</th>\n",
       "      <td>3.770000e+02</td>\n",
       "      <td>254.000000</td>\n",
       "      <td>254.000000</td>\n",
       "      <td>492.0</td>\n",
       "      <td>492.0</td>\n",
       "      <td>254.000000</td>\n",
       "      <td>254.000000</td>\n",
       "      <td>492.000000</td>\n",
       "    </tr>\n",
       "    <tr>\n",
       "      <th>mean</th>\n",
       "      <td>7.436342e+07</td>\n",
       "      <td>487.290166</td>\n",
       "      <td>495.458154</td>\n",
       "      <td>480.0</td>\n",
       "      <td>360.0</td>\n",
       "      <td>302.716502</td>\n",
       "      <td>181.445070</td>\n",
       "      <td>0.243902</td>\n",
       "    </tr>\n",
       "    <tr>\n",
       "      <th>std</th>\n",
       "      <td>1.085637e+08</td>\n",
       "      <td>244.381068</td>\n",
       "      <td>183.370317</td>\n",
       "      <td>0.0</td>\n",
       "      <td>0.0</td>\n",
       "      <td>195.276824</td>\n",
       "      <td>168.977774</td>\n",
       "      <td>12.005662</td>\n",
       "    </tr>\n",
       "    <tr>\n",
       "      <th>min</th>\n",
       "      <td>2.806100e-01</td>\n",
       "      <td>89.000000</td>\n",
       "      <td>90.000000</td>\n",
       "      <td>480.0</td>\n",
       "      <td>360.0</td>\n",
       "      <td>5.500000</td>\n",
       "      <td>-23.000000</td>\n",
       "      <td>-100.000000</td>\n",
       "    </tr>\n",
       "    <tr>\n",
       "      <th>25%</th>\n",
       "      <td>7.910000e-01</td>\n",
       "      <td>253.750000</td>\n",
       "      <td>352.750000</td>\n",
       "      <td>480.0</td>\n",
       "      <td>360.0</td>\n",
       "      <td>145.750000</td>\n",
       "      <td>25.000000</td>\n",
       "      <td>0.000000</td>\n",
       "    </tr>\n",
       "    <tr>\n",
       "      <th>50%</th>\n",
       "      <td>9.073048e-01</td>\n",
       "      <td>458.720963</td>\n",
       "      <td>519.000000</td>\n",
       "      <td>480.0</td>\n",
       "      <td>360.0</td>\n",
       "      <td>228.000000</td>\n",
       "      <td>113.000000</td>\n",
       "      <td>0.000000</td>\n",
       "    </tr>\n",
       "    <tr>\n",
       "      <th>75%</th>\n",
       "      <td>2.042826e+08</td>\n",
       "      <td>711.033951</td>\n",
       "      <td>684.750000</td>\n",
       "      <td>480.0</td>\n",
       "      <td>360.0</td>\n",
       "      <td>485.981117</td>\n",
       "      <td>360.000000</td>\n",
       "      <td>0.000000</td>\n",
       "    </tr>\n",
       "    <tr>\n",
       "      <th>max</th>\n",
       "      <td>2.925508e+08</td>\n",
       "      <td>939.234924</td>\n",
       "      <td>720.000000</td>\n",
       "      <td>480.0</td>\n",
       "      <td>360.0</td>\n",
       "      <td>811.901123</td>\n",
       "      <td>524.035156</td>\n",
       "      <td>80.000000</td>\n",
       "    </tr>\n",
       "  </tbody>\n",
       "</table>\n",
       "</div>"
      ],
      "text/plain": [
       "         confidence  detected bounding box width  \\\n",
       "count  3.770000e+02                   254.000000   \n",
       "mean   7.436342e+07                   487.290166   \n",
       "std    1.085637e+08                   244.381068   \n",
       "min    2.806100e-01                    89.000000   \n",
       "25%    7.910000e-01                   253.750000   \n",
       "50%    9.073048e-01                   458.720963   \n",
       "75%    2.042826e+08                   711.033951   \n",
       "max    2.925508e+08                   939.234924   \n",
       "\n",
       "       detected bounding box height  img xcenter  img ycenter  \\\n",
       "count                    254.000000        492.0        492.0   \n",
       "mean                     495.458154        480.0        360.0   \n",
       "std                      183.370317          0.0          0.0   \n",
       "min                       90.000000        480.0        360.0   \n",
       "25%                      352.750000        480.0        360.0   \n",
       "50%                      519.000000        480.0        360.0   \n",
       "75%                      684.750000        480.0        360.0   \n",
       "max                      720.000000        480.0        360.0   \n",
       "\n",
       "       model output xcenter  model output ycenter  height (distance to floor)  \n",
       "count            254.000000            254.000000                  492.000000  \n",
       "mean             302.716502            181.445070                    0.243902  \n",
       "std              195.276824            168.977774                   12.005662  \n",
       "min                5.500000            -23.000000                 -100.000000  \n",
       "25%              145.750000             25.000000                    0.000000  \n",
       "50%              228.000000            113.000000                    0.000000  \n",
       "75%              485.981117            360.000000                    0.000000  \n",
       "max              811.901123            524.035156                   80.000000  "
      ]
     },
     "execution_count": 26,
     "metadata": {},
     "output_type": "execute_result"
    }
   ],
   "source": [
    "df = pd.read_csv(\"./assets/telemetry.csv\")\n",
    "\n",
    "print(df.columns)\n",
    "\n",
    "df.describe()"
   ]
  },
  {
   "cell_type": "markdown",
   "metadata": {},
   "source": [
    "## 1. Comparing Azure vs. YOLO \n",
    "\n",
    "Comparing people detector models"
   ]
  },
  {
   "cell_type": "code",
   "execution_count": 40,
   "metadata": {},
   "outputs": [
    {
     "data": {
      "image/png": "[encoded data removed]",
      "text/plain": [
       "<Figure size 432x288 with 2 Axes>"
      ]
     },
     "metadata": {
      "needs_background": "light"
     },
     "output_type": "display_data"
    }
   ],
   "source": [
    "#Get filtered data frames\n",
    "azure_df = df[df['Model'] =='AzureObjectDetector'] \n",
    "\n",
    "yolo_df = df[df['Model'] == 'YOLOObjectDetector']\n",
    "\n",
    "# Plot two histograms side by side using Matplotlib\n",
    "fig, axes = plt.subplots(1, 2)\n",
    "\n",
    "fig.suptitle('Azure vs. YOLO', fontsize=14)\n",
    "\n",
    "azure_df.boxplot('confidence', ax=axes[0])\n",
    "axes[0].set_title('Azure')\n",
    "yolo_df.boxplot('confidence', ax=axes[1])\n",
    "axes[1].set_title('YOLO')\n",
    "plt.show()\n",
    "\n"
   ]
  },
  {
   "cell_type": "markdown",
   "metadata": {},
   "source": [
    "## 2. Finding person distance from camera\n",
    "\n",
    "Comparing Computer Vision bounding boxes vs. density"
   ]
  },
  {
   "cell_type": "code",
   "execution_count": null,
   "metadata": {},
   "outputs": [],
   "source": []
  }
 ],
 "metadata": {
  "kernelspec": {
   "display_name": "Python 3.10.4 ('.venv': venv)",
   "language": "python",
   "name": "python3"
  },
  "language_info": {
   "codemirror_mode": {
    "name": "ipython",
    "version": 3
   },
   "file_extension": ".py",
   "mimetype": "text/x-python",
   "name": "python",
   "nbconvert_exporter": "python",
   "pygments_lexer": "ipython3",
   "version": "3.10.4"
  },
  "orig_nbformat": 4,
  "vscode": {
   "interpreter": {
    "hash": "516256ed48e2fe25a73913b952a87e43c3406a22a75480f9d2946253dfae098f"
   }
  }
 },
 "nbformat": 4,
 "nbformat_minor": 2
}
